{
  "nbformat": 4,
  "nbformat_minor": 0,
  "metadata": {
    "kernelspec": {
      "display_name": "Python 3",
      "language": "python",
      "name": "python3"
    },
    "language_info": {
      "codemirror_mode": {
        "name": "ipython",
        "version": 3
      },
      "file_extension": ".py",
      "mimetype": "text/x-python",
      "name": "python",
      "nbconvert_exporter": "python",
      "pygments_lexer": "ipython3",
      "version": "3.7.3"
    },
    "colab": {
      "name": "HW4P1.ipynb",
      "provenance": [],
      "collapsed_sections": [],
      "include_colab_link": true
    }
  },
  "cells": [
    {
      "cell_type": "markdown",
      "metadata": {
        "id": "view-in-github",
        "colab_type": "text"
      },
      "source": [
        "<a href=\"https://colab.research.google.com/github/manashpratim/Language-Modelling-using-RNNs/blob/master/HW4P1.ipynb\" target=\"_parent\"><img src=\"https://colab.research.google.com/assets/colab-badge.svg\" alt=\"Open In Colab\"/></a>"
      ]
    },
    {
      "cell_type": "code",
      "metadata": {
        "id": "HgI9i9PhCPui",
        "colab_type": "code",
        "colab": {}
      },
      "source": [
        "%matplotlib inline\n",
        "\n",
        "import numpy as np\n",
        "from matplotlib import pyplot as plt\n",
        "import time\n",
        "import os\n",
        "import torch\n",
        "import torch.nn as nn\n",
        "from torch.autograd import Variable\n",
        "from torch.utils.data import Dataset, DataLoader\n",
        "from tests import test_prediction, test_generation"
      ],
      "execution_count": 0,
      "outputs": []
    },
    {
      "cell_type": "code",
      "metadata": {
        "id": "V8s7CP-8CPuu",
        "colab_type": "code",
        "colab": {}
      },
      "source": [
        "# load all that we need\n",
        "\n",
        "dataset = np.load('../dataset/wiki.train.npy',allow_pickle=True)\n",
        "valid = np.load('../dataset/wiki.valid.npy',allow_pickle=True)\n",
        "fixtures_pred = np.load('../fixtures/prediction.npz',allow_pickle=True)  # dev\n",
        "fixtures_gen = np.load('../fixtures/generation.npy',allow_pickle=True)  # dev\n",
        "fixtures_pred_test = np.load('../fixtures/prediction_test.npz',allow_pickle=True)  # test\n",
        "fixtures_gen_test = np.load('../fixtures/generation_test.npy',allow_pickle=True)  # test\n",
        "vocab = np.load('../dataset/vocab.npy',allow_pickle=True)"
      ],
      "execution_count": 0,
      "outputs": []
    },
    {
      "cell_type": "code",
      "metadata": {
        "id": "sGub5DCdCPu2",
        "colab_type": "code",
        "colab": {}
      },
      "source": [
        "# data loader\n",
        "\n",
        "class LanguageModelDataLoader(DataLoader):\n",
        "    \"\"\"\n",
        "        TODO: Define data loader logic here\n",
        "    \"\"\"\n",
        "    def __init__(self, dataset, batch_size, shuffle=True):\n",
        "        \n",
        "        self.data = dataset\n",
        "        self.batch_size = batch_size\n",
        "        self.seq_len = 70\n",
        "        self.shuffle = shuffle\n",
        "\n",
        "    def __iter__(self):\n",
        "        # concatenate your articles and build into batches\n",
        "        \n",
        "        if self.shuffle == True:\n",
        "            np.random.shuffle(self.data)\n",
        "        text = self.data[0]\n",
        "        for i in range(1,len(self.data)):\n",
        "            text = np.hstack((text,self.data[i]))\n",
        "        \n",
        "        n_seq = len(text) // self.seq_len\n",
        "        text = text[:n_seq * self.seq_len]\n",
        "        self.batch_data = torch.tensor(text,dtype=torch.long).view(-1,self.seq_len)\n",
        "        \n",
        "        \n",
        "        for i in range(0,self.batch_data.shape[0],self.batch_size):\n",
        "    \n",
        "            yield (self.batch_data[i:i+self.batch_size,:-1].T, self.batch_data[i:i+self.batch_size,1:].T)\n",
        "     "
      ],
      "execution_count": 0,
      "outputs": []
    },
    {
      "cell_type": "code",
      "metadata": {
        "id": "lFaPixXgCPu9",
        "colab_type": "code",
        "colab": {}
      },
      "source": [
        "# model\n",
        "\n",
        "class LanguageModel(nn.Module):\n",
        "    \"\"\"\n",
        "        TODO: Define your model here\n",
        "    \"\"\"\n",
        "    def __init__(self, vocab_size):\n",
        "        super(LanguageModel, self).__init__()\n",
        "        \n",
        "\n",
        "        self.vocab = vocab_size\n",
        "        self.embed = nn.Embedding(vocab_size, 1000)\n",
        "        self.lstm = nn.LSTM(1000, 1024)\n",
        "        self.output = nn.Linear(1024, vocab_size)\n",
        "\n",
        "\n",
        "    def forward(self, x):\n",
        "\n",
        "        batch_size = x.shape[1]\n",
        "        embed = self.embed(x)\n",
        "        output_lstm,_ = self.lstm(embed)\n",
        "        output_lstm_flatten = output_lstm.view(-1,1024) \n",
        "        output_flatten = self.output(output_lstm_flatten) \n",
        "        \n",
        "        return output_flatten.view(-1,batch_size,self.vocab)\n",
        "    \n",
        "    def generate(self,seq, n_words): # L x V\n",
        "\n",
        "        generated_words = []\n",
        "        embed = self.embed(seq).unsqueeze(1)\n",
        "        output_lstm, _ = self.lstm(embed) \n",
        "        output1 = output_lstm[-1]\n",
        "        scores = self.output(output1) \n",
        "        _,current_word = torch.max(scores,dim=1) \n",
        "        generated_words.append(current_word)\n",
        "        if n_words > 1:\n",
        "            for i in range(n_words-1):\n",
        "                embed = self.embed(current_word).unsqueeze(0) \n",
        "                output_lstm,_ = self.lstm(embed) \n",
        "                output2 = output_lstm[0] \n",
        "                scores = self.output(output2) \n",
        "                _,current_word = torch.max(scores,dim=1) \n",
        "                generated_words.append(current_word)\n",
        "        return torch.cat(generated_words,dim=0)"
      ],
      "execution_count": 0,
      "outputs": []
    },
    {
      "cell_type": "code",
      "metadata": {
        "id": "t39u6Jm4CPvE",
        "colab_type": "code",
        "colab": {}
      },
      "source": [
        "# model trainer\n",
        "\n",
        "class LanguageModelTrainer:\n",
        "    def __init__(self, model, loader, max_epochs=1, run_id='exp'):\n",
        "        \"\"\"\n",
        "            Use this class to train your model\n",
        "        \"\"\"\n",
        "\n",
        "        self.model = model\n",
        "        self.loader = loader\n",
        "        self.train_losses = []\n",
        "        self.val_losses = []\n",
        "        self.predictions = []\n",
        "        self.predictions_test = []\n",
        "        self.generated_logits = []\n",
        "        self.generated = []\n",
        "        self.generated_logits_test = []\n",
        "        self.generated_test = []\n",
        "        self.epochs = 0\n",
        "        self.max_epochs = max_epochs\n",
        "        self.run_id = run_id\n",
        "        \n",
        "        self.optimizer = torch.optim.Adam(model.parameters(),lr=0.001, weight_decay=1e-6)\n",
        "        self.criterion = nn.CrossEntropyLoss()\n",
        "\n",
        "    def train(self):\n",
        "        self.model.train() # set to training mode\n",
        "        epoch_loss = 0\n",
        "        num_batches = 0\n",
        "        for batch_num, (inputs, targets) in enumerate(self.loader):\n",
        "            epoch_loss += self.train_batch(inputs, targets)\n",
        "            #if batch_num%10==0:\n",
        "            #    print(batch_num)\n",
        "        epoch_loss = epoch_loss / (batch_num + 1)\n",
        "        self.epochs += 1\n",
        "        print('[TRAIN]  Epoch [%d/%d]   Loss: %.4f'\n",
        "                      % (self.epochs + 1, self.max_epochs, epoch_loss))\n",
        "        self.train_losses.append(epoch_loss)\n",
        "\n",
        "    def train_batch(self, inputs, targets):\n",
        "        \"\"\" \n",
        "            TODO: Define code for training a single batch of inputs\n",
        "        \n",
        "        \"\"\"\n",
        "        outputs = model(inputs) # 3D\n",
        "        loss = self.criterion(outputs.reshape(-1,outputs.size(2)),targets.reshape(-1)) # Loss of the flattened outputs\n",
        "        self.optimizer.zero_grad()\n",
        "        loss.backward()\n",
        "        self.optimizer.step()\n",
        "        return loss.item()\n",
        "\n",
        "    \n",
        "    def test(self):\n",
        "\n",
        "        self.model.eval() # set to eval mode\n",
        "        predictions = TestLanguageModel.prediction(fixtures_pred['inp'], self.model) # get predictions\n",
        "        self.predictions.append(predictions)\n",
        "        generated_logits = TestLanguageModel.generation(fixtures_gen, 10, self.model) # generated predictions for 10 words\n",
        "        generated_logits_test = TestLanguageModel.generation(fixtures_gen_test, 10, self.model)\n",
        "        nll = test_prediction(predictions, fixtures_pred['out'])\n",
        "        generated = test_generation(fixtures_gen, generated_logits, vocab)\n",
        "        generated_test = test_generation(fixtures_gen_test, generated_logits_test, vocab)\n",
        "        self.val_losses.append(nll)\n",
        "        \n",
        "        self.generated.append(generated)\n",
        "        self.generated_test.append(generated_test)\n",
        "        self.generated_logits.append(generated_logits)\n",
        "        self.generated_logits_test.append(generated_logits_test)\n",
        "        \n",
        "        # generate predictions for test data\n",
        "        predictions_test = TestLanguageModel.prediction(fixtures_pred_test['inp'], self.model) # get predictions\n",
        "        self.predictions_test.append(predictions_test)\n",
        "            \n",
        "        print('[VAL]  Epoch [%d/%d]   Loss: %.4f'\n",
        "                      % (self.epochs + 1, self.max_epochs, nll))\n",
        "        return nll\n",
        "\n",
        "    def save(self):\n",
        "\n",
        "        model_path = os.path.join('experiments', self.run_id, 'model-{}.pkl'.format(self.epochs))\n",
        "        torch.save({'state_dict': self.model.state_dict()},\n",
        "            model_path)\n",
        "        np.save(os.path.join('experiments', self.run_id, 'predictions-{}.npy'.format(self.epochs)), self.predictions[-1])\n",
        "        np.save(os.path.join('experiments', self.run_id, 'predictions-test-{}.npy'.format(self.epochs)), self.predictions_test[-1])\n",
        "        np.save(os.path.join('experiments', self.run_id, 'generated_logits-{}.npy'.format(self.epochs)), self.generated_logits[-1])\n",
        "        np.save(os.path.join('experiments', self.run_id, 'generated_logits-test-{}.npy'.format(self.epochs)), self.generated_logits_test[-1])\n",
        "        with open(os.path.join('experiments', self.run_id, 'generated-{}.txt'.format(self.epochs)), 'w') as fw:\n",
        "            fw.write(self.generated[-1])\n",
        "        with open(os.path.join('experiments', self.run_id, 'generated-{}-test.txt'.format(self.epochs)), 'w') as fw:\n",
        "            fw.write(self.generated_test[-1])\n"
      ],
      "execution_count": 0,
      "outputs": []
    },
    {
      "cell_type": "code",
      "metadata": {
        "id": "WZEDqXCVCPvM",
        "colab_type": "code",
        "colab": {}
      },
      "source": [
        "class TestLanguageModel:\n",
        "    def prediction(inp, model):\n",
        "        \"\"\"\n",
        "            TODO: write prediction code here\n",
        "            \n",
        "            :param inp:\n",
        "            :return: a np.ndarray of logits\n",
        "        \"\"\"\n",
        "        outputs = model(torch.tensor(inp,dtype=torch.long).T)\n",
        "\n",
        "        return outputs[-1].detach().numpy()\n",
        "\n",
        "        \n",
        "    def generation(inp, forward, model):\n",
        "        \"\"\"\n",
        "            TODO: write generation code here\n",
        "\n",
        "            Generate a sequence of words given a starting sequence.\n",
        "            :param inp: Initial sequence of words (batch size, length)\n",
        "            :param forward: number of additional words to generate\n",
        "            :return: generated words (batch size, forward)\n",
        "        \"\"\" \n",
        "        a = np.zeros((inp.shape[0],forward),dtype=int)\n",
        "        inpu = torch.tensor(inp,dtype=torch.long).T\n",
        "        for i in range(inp.shape[0]):\n",
        "            \n",
        "            a[i] = model.generate(inpu[:,i], forward).detach().numpy()\n",
        "            \n",
        "        #raise NotImplemented\n",
        "        return a\n",
        "        "
      ],
      "execution_count": 0,
      "outputs": []
    },
    {
      "cell_type": "code",
      "metadata": {
        "id": "QJLbbhG5CPvT",
        "colab_type": "code",
        "colab": {}
      },
      "source": [
        "# TODO: define other hyperparameters here\n",
        "\n",
        "NUM_EPOCHS = 2\n",
        "BATCH_SIZE = 64\n"
      ],
      "execution_count": 0,
      "outputs": []
    },
    {
      "cell_type": "code",
      "metadata": {
        "id": "dVE2t2b7CPve",
        "colab_type": "code",
        "colab": {},
        "outputId": "757ca692-2b0c-45dd-d4aa-6a552f4f568f"
      },
      "source": [
        "run_id = str(int(time.time()))\n",
        "if not os.path.exists('./experiments'):\n",
        "    os.mkdir('./experiments')\n",
        "os.mkdir('./experiments/%s' % run_id)\n",
        "print(\"Saving models, predictions, and generated words to ./experiments/%s\" % run_id)"
      ],
      "execution_count": 0,
      "outputs": [
        {
          "output_type": "stream",
          "text": [
            "Saving models, predictions, and generated words to ./experiments/1586644087\n"
          ],
          "name": "stdout"
        }
      ]
    },
    {
      "cell_type": "code",
      "metadata": {
        "id": "GfRYdpW9CPvn",
        "colab_type": "code",
        "colab": {}
      },
      "source": [
        "model = LanguageModel(len(vocab))\n",
        "loader = LanguageModelDataLoader(dataset=dataset, batch_size=BATCH_SIZE, shuffle=True)\n",
        "trainer = LanguageModelTrainer(model=model, loader=loader, max_epochs=NUM_EPOCHS, run_id=run_id)"
      ],
      "execution_count": 0,
      "outputs": []
    },
    {
      "cell_type": "code",
      "metadata": {
        "id": "WRznpkYSCPvt",
        "colab_type": "code",
        "colab": {}
      },
      "source": [
        "best_nll = 1e30 \n",
        "for epoch in range(NUM_EPOCHS):\n",
        "    trainer.train()\n",
        "    nll = trainer.test()\n",
        "    if nll < best_nll:\n",
        "        best_nll = nll\n",
        "        print(\"Saving model, predictions and generated output for epoch \"+str(epoch)+\" with NLL: \"+ str(best_nll))\n",
        "        trainer.save()\n",
        "    "
      ],
      "execution_count": 0,
      "outputs": []
    },
    {
      "cell_type": "code",
      "metadata": {
        "id": "ke7a8bh3CPvz",
        "colab_type": "code",
        "colab": {}
      },
      "source": [
        "\n",
        "plt.figure()\n",
        "plt.plot(range(1, trainer.epochs + 1), trainer.train_losses, label='Training losses')\n",
        "plt.plot(range(1, trainer.epochs + 1), trainer.val_losses, label='Validation losses')\n",
        "plt.xlabel('Epochs')\n",
        "plt.ylabel('NLL')\n",
        "plt.legend()\n",
        "plt.show()"
      ],
      "execution_count": 0,
      "outputs": []
    }
  ]
}